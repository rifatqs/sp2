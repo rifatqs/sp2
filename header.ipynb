{
 "cells": [
  {
   "cell_type": "code",
   "execution_count": 15,
   "id": "3f831a56",
   "metadata": {},
   "outputs": [],
   "source": [
    "from os.path import abspath\n",
    "warehouse_location = abspath('spark-warehouse')\n",
    "scSpark = SparkSession \\\n",
    "    .builder \\\n",
    "    .appName(\"Spark Hive\") \\\n",
    "    .config(\"spark.sql.warehouse.dir\", warehouse_location) \\\n",
    "    .enableHiveSupport() \\\n",
    "    .getOrCreate()"
   ]
  },
  {
   "cell_type": "code",
   "execution_count": 2,
   "id": "cc4d6e5b",
   "metadata": {},
   "outputs": [
    {
     "name": "stderr",
     "output_type": "stream",
     "text": [
      "ivysettings.xml file not found in HIVE_HOME or HIVE_CONF_DIR,/etc/hive/conf.dist/ivysettings.xml will be used\n"
     ]
    },
    {
     "data": {
      "text/plain": [
       "DataFrame[]"
      ]
     },
     "execution_count": 2,
     "metadata": {},
     "output_type": "execute_result"
    }
   ],
   "source": [
    "scSpark.sql(\"CREATE DATABASE IF NOT EXISTS sp2f\")"
   ]
  },
  {
   "cell_type": "code",
   "execution_count": 3,
   "id": "58faeeff",
   "metadata": {},
   "outputs": [
    {
     "name": "stdout",
     "output_type": "stream",
     "text": [
      "+---------+\n",
      "|namespace|\n",
      "+---------+\n",
      "|  default|\n",
      "|      sp2|\n",
      "|     sp2f|\n",
      "+---------+\n",
      "\n"
     ]
    }
   ],
   "source": [
    "scSpark.sql(\"SHOW DATABASES\").show()"
   ]
  },
  {
   "cell_type": "code",
   "execution_count": 16,
   "id": "1dbc5f51",
   "metadata": {},
   "outputs": [
    {
     "data": {
      "text/plain": [
       "DataFrame[]"
      ]
     },
     "execution_count": 16,
     "metadata": {},
     "output_type": "execute_result"
    }
   ],
   "source": [
    "scSpark.sql(\"USE sp2f\")"
   ]
  },
  {
   "cell_type": "code",
   "execution_count": 17,
   "id": "4941d11f",
   "metadata": {},
   "outputs": [
    {
     "data": {
      "text/plain": [
       "DataFrame[]"
      ]
     },
     "execution_count": 17,
     "metadata": {},
     "output_type": "execute_result"
    }
   ],
   "source": [
    "scSpark.sql(\"CREATE TABLE IF NOT EXISTS covid1 \\\n",
    "(location STRING, date DATE, variant STRING, num_sequences INT, perc_sequences FLOAT, num_sequences_total INT) \\\n",
    "tblproperties ('skip.header.line.count'='1') \\\n",
    "row format delimited fields terminated by ','\")\n"
   ]
  },
  {
   "cell_type": "code",
   "execution_count": 22,
   "id": "edcc07a6",
   "metadata": {},
   "outputs": [
    {
     "name": "stderr",
     "output_type": "stream",
     "text": [
      "22/07/15 09:29:40 WARN shims.HdfsUtils: Unable to inherit permissions for file hdfs://sp2-m/spark-warehouse/sp2f.db/covid1/covid-variants.csv.1 from file hdfs://sp2-m/spark-warehouse/sp2f.db/covid1\n"
     ]
    },
    {
     "data": {
      "text/plain": [
       "DataFrame[]"
      ]
     },
     "execution_count": 22,
     "metadata": {},
     "output_type": "execute_result"
    }
   ],
   "source": [
    "scSpark.sql(\"LOAD DATA INPATH \\\n",
    "'/covid-variants.csv.1' \\\n",
    "into table covid1\")"
   ]
  },
  {
   "cell_type": "code",
   "execution_count": 23,
   "id": "fa5aafcd",
   "metadata": {},
   "outputs": [],
   "source": [
    "df = scSpark.sql(\"select * from covid1\")\n",
    "SELECT * from Test WHERE RecordId IS NOT NULL"
   ]
  },
  {
   "cell_type": "code",
   "execution_count": 24,
   "id": "498a2c4b",
   "metadata": {},
   "outputs": [
    {
     "name": "stdout",
     "output_type": "stream",
     "text": [
      "+--------+----------+---------+-------------+--------------+-------------------+\n",
      "|location|      date|  variant|num_sequences|perc_sequences|num_sequences_total|\n",
      "+--------+----------+---------+-------------+--------------+-------------------+\n",
      "|location|      null|  variant|         null|          null|               null|\n",
      "|  Angola|2020-07-06|    Alpha|            0|           0.0|                  3|\n",
      "|  Angola|2020-07-06|B.1.1.277|            0|           0.0|                  3|\n",
      "|  Angola|2020-07-06|B.1.1.302|            0|           0.0|                  3|\n",
      "|  Angola|2020-07-06|B.1.1.519|            0|           0.0|                  3|\n",
      "|  Angola|2020-07-06|  B.1.160|            0|           0.0|                  3|\n",
      "|  Angola|2020-07-06|  B.1.177|            0|           0.0|                  3|\n",
      "|  Angola|2020-07-06|  B.1.221|            0|           0.0|                  3|\n",
      "|  Angola|2020-07-06|  B.1.258|            0|           0.0|                  3|\n",
      "|  Angola|2020-07-06|  B.1.367|            0|           0.0|                  3|\n",
      "|  Angola|2020-07-06|  B.1.620|            0|           0.0|                  3|\n",
      "|  Angola|2020-07-06|     Beta|            0|           0.0|                  3|\n",
      "|  Angola|2020-07-06|    Delta|            0|           0.0|                  3|\n",
      "|  Angola|2020-07-06|  Epsilon|            0|           0.0|                  3|\n",
      "|  Angola|2020-07-06|      Eta|            0|           0.0|                  3|\n",
      "|  Angola|2020-07-06|    Gamma|            0|           0.0|                  3|\n",
      "|  Angola|2020-07-06|     Iota|            0|           0.0|                  3|\n",
      "|  Angola|2020-07-06|    Kappa|            0|           0.0|                  3|\n",
      "|  Angola|2020-07-06|   Lambda|            0|           0.0|                  3|\n",
      "|  Angola|2020-07-06|       Mu|            0|           0.0|                  3|\n",
      "+--------+----------+---------+-------------+--------------+-------------------+\n",
      "only showing top 20 rows\n",
      "\n"
     ]
    },
    {
     "name": "stderr",
     "output_type": "stream",
     "text": [
      "\r",
      "[Stage 2:>                                                          (0 + 1) / 1]\r",
      "\r",
      "                                                                                \r"
     ]
    }
   ],
   "source": [
    "df.show()"
   ]
  },
  {
   "cell_type": "code",
   "execution_count": 35,
   "id": "0b4c81e4",
   "metadata": {},
   "outputs": [],
   "source": [
    "df1 = scSpark.sql(\"SELECT * from covid1 WHERE num_sequences IS NOT null\")"
   ]
  },
  {
   "cell_type": "code",
   "execution_count": 36,
   "id": "b7fb7d81",
   "metadata": {},
   "outputs": [
    {
     "name": "stdout",
     "output_type": "stream",
     "text": [
      "+--------+----------+---------+-------------+--------------+-------------------+\n",
      "|location|      date|  variant|num_sequences|perc_sequences|num_sequences_total|\n",
      "+--------+----------+---------+-------------+--------------+-------------------+\n",
      "|  Angola|2020-07-06|    Alpha|            0|           0.0|                  3|\n",
      "|  Angola|2020-07-06|B.1.1.277|            0|           0.0|                  3|\n",
      "|  Angola|2020-07-06|B.1.1.302|            0|           0.0|                  3|\n",
      "|  Angola|2020-07-06|B.1.1.519|            0|           0.0|                  3|\n",
      "|  Angola|2020-07-06|  B.1.160|            0|           0.0|                  3|\n",
      "|  Angola|2020-07-06|  B.1.177|            0|           0.0|                  3|\n",
      "|  Angola|2020-07-06|  B.1.221|            0|           0.0|                  3|\n",
      "|  Angola|2020-07-06|  B.1.258|            0|           0.0|                  3|\n",
      "|  Angola|2020-07-06|  B.1.367|            0|           0.0|                  3|\n",
      "|  Angola|2020-07-06|  B.1.620|            0|           0.0|                  3|\n",
      "|  Angola|2020-07-06|     Beta|            0|           0.0|                  3|\n",
      "|  Angola|2020-07-06|    Delta|            0|           0.0|                  3|\n",
      "|  Angola|2020-07-06|  Epsilon|            0|           0.0|                  3|\n",
      "|  Angola|2020-07-06|      Eta|            0|           0.0|                  3|\n",
      "|  Angola|2020-07-06|    Gamma|            0|           0.0|                  3|\n",
      "|  Angola|2020-07-06|     Iota|            0|           0.0|                  3|\n",
      "|  Angola|2020-07-06|    Kappa|            0|           0.0|                  3|\n",
      "|  Angola|2020-07-06|   Lambda|            0|           0.0|                  3|\n",
      "|  Angola|2020-07-06|       Mu|            0|           0.0|                  3|\n",
      "|  Angola|2020-07-06|  Omicron|            0|           0.0|                  3|\n",
      "+--------+----------+---------+-------------+--------------+-------------------+\n",
      "only showing top 20 rows\n",
      "\n"
     ]
    }
   ],
   "source": [
    "df1.show()"
   ]
  },
  {
   "cell_type": "code",
   "execution_count": 37,
   "id": "464233a0",
   "metadata": {},
   "outputs": [
    {
     "data": {
      "text/plain": [
       "100416"
      ]
     },
     "execution_count": 37,
     "metadata": {},
     "output_type": "execute_result"
    }
   ],
   "source": [
    "df1.count()"
   ]
  },
  {
   "cell_type": "code",
   "execution_count": null,
   "id": "b1e24e59",
   "metadata": {},
   "outputs": [],
   "source": []
  }
 ],
 "metadata": {
  "kernelspec": {
   "display_name": "PySpark",
   "language": "python",
   "name": "pyspark"
  },
  "language_info": {
   "codemirror_mode": {
    "name": "ipython",
    "version": 3
   },
   "file_extension": ".py",
   "mimetype": "text/x-python",
   "name": "python",
   "nbconvert_exporter": "python",
   "pygments_lexer": "ipython3",
   "version": "3.8.13"
  }
 },
 "nbformat": 4,
 "nbformat_minor": 5
}
